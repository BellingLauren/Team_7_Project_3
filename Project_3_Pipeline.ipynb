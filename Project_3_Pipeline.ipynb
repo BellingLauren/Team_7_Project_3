{
 "cells": [
  {
   "cell_type": "code",
   "execution_count": null,
   "metadata": {},
   "outputs": [],
   "source": [
    "import openai\n",
    "import requests\n",
    "from flask import Flask, request, jsonify, render_template\n",
    "from transformers import pipeline\n",
    "from amadeus import Client, ResponseError\n",
    "import pandas as pd"
   ]
  },
  {
   "cell_type": "code",
   "execution_count": 19,
   "metadata": {},
   "outputs": [],
   "source": [
    "flight_url = 'https://test.api.amadeus.com/v2/shopping/flight-offers'\n",
    "params= {\n",
    "    'originLocationCode': 'CLE',  # Cleveland\n",
    "    'destinationLocationCode': 'NYC',  # New York\n",
    "    'departureDate': '2025-05-01',\n",
    "    'adults': 1,\n",
    "    'nonStop': 'false',\n",
    "    'currencyCode': 'USD',\n",
    "    'max': 10  # Limit results\n",
    "}\n",
    "\n",
    "hotels_url = 'https://test.api.amadeus.com/v1/reference-data/locations/hotels/by-city'\n",
    "params= {\n",
    "    'cityCode': 'CLE',  # IATA code for Cleveland\n",
    "    'radius': 5,\n",
    "    'radiusUnit': 'KM',\n",
    "    'ratings': '3,4,5',  # Optional: filter by star ratings\n",
    "    'hotelSource': 'ALL'  # ALL, BEDBANK, or DIRECTCHAIN\n",
    "}\n",
    "\n",
    "\n",
    "# For authentication\n",
    "auth_url = 'https://test.api.amadeus.com/v1/security/oauth2/token'\n",
    "auth_data = {\n",
    "    'grant_type': 'client_credentials',\n",
    "    'client_id': 'RW5x5Bn2aMZYmgyHCyomxPetDteMmM2a',\n",
    "    'client_secret': 'sKvaa9jS36eO7OCL'\n",
    "}\n",
    "\n",
    "# Get access token\n",
    "auth_response = requests.post(auth_url, data=auth_data)\n",
    "access_token = auth_response.json()['access_token']\n",
    "\n",
    "# Use token in API request\n",
    "headers = {\n",
    "    'Authorization': f'Bearer {access_token}'\n",
    "}\n",
    "\n",
    "response_hotel = requests.get(hotels_url, headers=headers, params=params)\n",
    "respone_flight = requests.get(flight_url, headers=headers, params=params)\n",
    "hotel_data = response_hotel.json()\n",
    "flight_data = respone_flight.json()\n"
   ]
  },
  {
   "cell_type": "code",
   "execution_count": 21,
   "metadata": {},
   "outputs": [
    {
     "ename": "KeyError",
     "evalue": "'flight_data'",
     "output_type": "error",
     "traceback": [
      "\u001b[1;31m---------------------------------------------------------------------------\u001b[0m",
      "\u001b[1;31mKeyError\u001b[0m                                  Traceback (most recent call last)",
      "Cell \u001b[1;32mIn[21], line 2\u001b[0m\n\u001b[0;32m      1\u001b[0m flights_list \u001b[38;5;241m=\u001b[39m []\n\u001b[1;32m----> 2\u001b[0m \u001b[38;5;28;01mfor\u001b[39;00m offer \u001b[38;5;129;01min\u001b[39;00m \u001b[43mflight_data\u001b[49m\u001b[43m[\u001b[49m\u001b[38;5;124;43m'\u001b[39;49m\u001b[38;5;124;43mflight_data\u001b[39;49m\u001b[38;5;124;43m'\u001b[39;49m\u001b[43m]\u001b[49m:\n\u001b[0;32m      3\u001b[0m         \u001b[38;5;66;03m# Extract the most important data from each flight offer\u001b[39;00m\n\u001b[0;32m      4\u001b[0m         flight_info \u001b[38;5;241m=\u001b[39m {\n\u001b[0;32m      5\u001b[0m             \u001b[38;5;124m'\u001b[39m\u001b[38;5;124moffer_id\u001b[39m\u001b[38;5;124m'\u001b[39m: offer\u001b[38;5;241m.\u001b[39mget(\u001b[38;5;124m'\u001b[39m\u001b[38;5;124mid\u001b[39m\u001b[38;5;124m'\u001b[39m, \u001b[38;5;124m'\u001b[39m\u001b[38;5;124mID not available\u001b[39m\u001b[38;5;124m'\u001b[39m),\n\u001b[0;32m      6\u001b[0m             \u001b[38;5;124m'\u001b[39m\u001b[38;5;124mprice\u001b[39m\u001b[38;5;124m'\u001b[39m: offer\u001b[38;5;241m.\u001b[39mget(\u001b[38;5;124m'\u001b[39m\u001b[38;5;124mprice\u001b[39m\u001b[38;5;124m'\u001b[39m, {})\u001b[38;5;241m.\u001b[39mget(\u001b[38;5;124m'\u001b[39m\u001b[38;5;124mtotal\u001b[39m\u001b[38;5;124m'\u001b[39m, \u001b[38;5;124m'\u001b[39m\u001b[38;5;124mPrice not available\u001b[39m\u001b[38;5;124m'\u001b[39m),\n\u001b[1;32m   (...)\u001b[0m\n\u001b[0;32m     12\u001b[0m             \u001b[38;5;124m'\u001b[39m\u001b[38;5;124mairline\u001b[39m\u001b[38;5;124m'\u001b[39m: offer\u001b[38;5;241m.\u001b[39mget(\u001b[38;5;124m'\u001b[39m\u001b[38;5;124mitineraries\u001b[39m\u001b[38;5;124m'\u001b[39m, [{}])[\u001b[38;5;241m0\u001b[39m]\u001b[38;5;241m.\u001b[39mget(\u001b[38;5;124m'\u001b[39m\u001b[38;5;124msegments\u001b[39m\u001b[38;5;124m'\u001b[39m, [{}])[\u001b[38;5;241m0\u001b[39m]\u001b[38;5;241m.\u001b[39mget(\u001b[38;5;124m'\u001b[39m\u001b[38;5;124mcarrierCode\u001b[39m\u001b[38;5;124m'\u001b[39m, \u001b[38;5;124m'\u001b[39m\u001b[38;5;124mAirline not available\u001b[39m\u001b[38;5;124m'\u001b[39m)\n\u001b[0;32m     13\u001b[0m         }\n\u001b[0;32m     14\u001b[0m         flights_list\u001b[38;5;241m.\u001b[39mappend(flight_info)\n",
      "\u001b[1;31mKeyError\u001b[0m: 'flight_data'"
     ]
    }
   ],
   "source": [
    "flights_list = []\n",
    "for offer in flight_data['flight_data']:\n",
    "        # Extract the most important data from each flight offer\n",
    "        flight_info = {\n",
    "            'offer_id': offer.get('id', 'ID not available'),\n",
    "            'price': offer.get('price', {}).get('total', 'Price not available'),\n",
    "            'currency': offer.get('price', {}).get('currency', 'Currency not available'),\n",
    "            # Get the first itinerary segment information (typically the outbound flight)\n",
    "            'departure_airport': offer.get('itineraries', [{}])[0].get('segments', [{}])[0].get('departure', {}).get('iataCode', 'Airport not available'),\n",
    "            'arrival_airport': offer.get('itineraries', [{}])[0].get('segments', [{}])[-1].get('arrival', {}).get('iataCode', 'Airport not available'),\n",
    "            'departure_date': offer.get('itineraries', [{}])[0].get('segments', [{}])[0].get('departure', {}).get('at', 'Date not available'),\n",
    "            'airline': offer.get('itineraries', [{}])[0].get('segments', [{}])[0].get('carrierCode', 'Airline not available')\n",
    "        }\n",
    "        flights_list.append(flight_info)\n",
    "flight_df = pd.DataFrame(flights_list)\n",
    "print(flights_list)"
   ]
  },
  {
   "cell_type": "code",
   "execution_count": null,
   "metadata": {},
   "outputs": [
    {
     "name": "stdout",
     "output_type": "stream",
     "text": [
      "                            name  hotel_id  rating\n",
      "0     DBLTREE CLEVELAND DOWNTOWN  DTCLE216       3\n",
      "1  WYNDHAM PLAYHOUSESQUARE HOTEL  WYCLEPHS       5\n",
      "2     RADISSON CLEVELAND GATEWAY  RDCLE627       3\n",
      "3     THE RITZ-CARLTON CLEVELAND  RZCLECLE       5\n",
      "4           COMFORT INN DOWNTOWN  CICLE167       3\n",
      "5    HILTON GI CLEVELAND GATEWAY  GICLE246       3\n",
      "6            UNIVERSITY HOTEL AN  ILCLE101       3\n",
      "7  INTERCONTINENTAL SUITES HOTEL  ICCLEICB       3\n"
     ]
    }
   ],
   "source": [
    "hotels_list = []\n",
    "for hotel in hotel_data['data']:\n",
    "    hotel_info = {\n",
    "        'name': hotel.get('name', 'Name not available'),\n",
    "        'hotel_id': hotel.get('hotelId', 'ID not available'),\n",
    "        'rating': hotel.get('rating', 'Rating not available'),\n",
    "    }\n",
    "    hotels_list.append(hotel_info)\n",
    "df = pd.DataFrame(hotels_list)\n",
    "print(df)"
   ]
  }
 ],
 "metadata": {
  "kernelspec": {
   "display_name": "dev",
   "language": "python",
   "name": "python3"
  },
  "language_info": {
   "codemirror_mode": {
    "name": "ipython",
    "version": 3
   },
   "file_extension": ".py",
   "mimetype": "text/x-python",
   "name": "python",
   "nbconvert_exporter": "python",
   "pygments_lexer": "ipython3",
   "version": "3.10.15"
  }
 },
 "nbformat": 4,
 "nbformat_minor": 2
}
