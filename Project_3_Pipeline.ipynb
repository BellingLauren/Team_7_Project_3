{
 "cells": [
  {
   "cell_type": "code",
   "execution_count": null,
   "metadata": {},
   "outputs": [],
   "source": [
    "import openai\n",
    "import requests\n",
    "from flask import Flask, request, jsonify, render_template\n",
    "from transformers import pipeline\n",
    "from amadeus import Client, ResponseError\n",
    "import pandas as pd"
   ]
  },
  {
   "cell_type": "code",
   "execution_count": 12,
   "metadata": {},
   "outputs": [
    {
     "name": "stdout",
     "output_type": "stream",
     "text": [
      "{'data': [{'chainCode': 'DT', 'iataCode': 'CLE', 'dupeId': 700008366, 'name': 'DBLTREE CLEVELAND DOWNTOWN', 'hotelId': 'DTCLE216', 'geoCode': {'latitude': 41.50674, 'longitude': -81.68916}, 'address': {'countryCode': 'US'}, 'distance': {'value': 0.25, 'unit': 'KM'}, 'rating': 3, 'lastUpdate': '2023-06-15T09:42:40'}, {'chainCode': 'WY', 'iataCode': 'CLE', 'dupeId': 700050873, 'name': 'WYNDHAM PLAYHOUSESQUARE HOTEL', 'hotelId': 'WYCLEPHS', 'geoCode': {'latitude': 41.5006, 'longitude': -81.68353}, 'address': {'countryCode': 'US'}, 'distance': {'value': 0.77, 'unit': 'KM'}, 'rating': 5, 'lastUpdate': '2023-06-15T09:44:48'}, {'chainCode': 'RD', 'iataCode': 'CLE', 'dupeId': 700037315, 'name': 'RADISSON CLEVELAND GATEWAY', 'hotelId': 'RDCLE627', 'geoCode': {'latitude': 41.49842, 'longitude': -81.68713}, 'address': {'countryCode': 'US'}, 'distance': {'value': 0.77, 'unit': 'KM'}, 'rating': 3, 'lastUpdate': '2023-06-15T09:43:45'}, {'chainCode': 'RZ', 'iataCode': 'CLE', 'dupeId': 700112673, 'name': 'THE RITZ-CARLTON CLEVELAND', 'hotelId': 'RZCLECLE', 'geoCode': {'latitude': 41.49756, 'longitude': -81.6948}, 'address': {'countryCode': 'US'}, 'distance': {'value': 0.86, 'unit': 'KM'}, 'rating': 5, 'lastUpdate': '2024-01-25T07:26:14'}, {'chainCode': 'CI', 'iataCode': 'CLE', 'dupeId': 700022811, 'name': 'COMFORT INN DOWNTOWN', 'hotelId': 'CICLE167', 'geoCode': {'latitude': 41.50109, 'longitude': -81.67858}, 'address': {'countryCode': 'US'}, 'distance': {'value': 1.1, 'unit': 'KM'}, 'rating': 3, 'lastUpdate': '2023-06-15T09:46:04'}, {'chainCode': 'GI', 'iataCode': 'CLE', 'dupeId': 700035543, 'name': 'HILTON GI CLEVELAND GATEWAY', 'hotelId': 'GICLE246', 'geoCode': {'latitude': 41.49633, 'longitude': -81.68171}, 'address': {'countryCode': 'US'}, 'distance': {'value': 1.21, 'unit': 'KM'}, 'rating': 3, 'lastUpdate': '2023-06-15T09:45:49'}, {'chainCode': 'IL', 'iataCode': 'CLE', 'dupeId': 700103716, 'name': 'UNIVERSITY HOTEL AN', 'hotelId': 'ILCLE101', 'geoCode': {'latitude': 41.50309, 'longitude': -81.66246}, 'address': {'countryCode': 'US'}, 'distance': {'value': 2.37, 'unit': 'KM'}, 'rating': 3, 'lastUpdate': '2023-06-15T09:42:41'}, {'chainCode': 'IC', 'iataCode': 'CLE', 'dupeId': 700068735, 'name': 'INTERCONTINENTAL SUITES HOTEL', 'hotelId': 'ICCLEICB', 'geoCode': {'latitude': 41.50343, 'longitude': -81.62549}, 'address': {'countryCode': 'US'}, 'distance': {'value': 5.45, 'unit': 'KM'}, 'rating': 3, 'lastUpdate': '2023-06-15T09:48:12'}], 'meta': {'count': 8, 'links': {'self': 'https://test.api.amadeus.com/v1/reference-data/locations/hotels/by-city?cityCode=CLE&hotelSource=ALL&radius=5&radiusUnit=KM&ratings=3,4,5'}}}\n"
     ]
    }
   ],
   "source": [
    "api_url = 'https://test.api.amadeus.com/v1/reference-data/locations/hotels/by-city'\n",
    "params = {\n",
    "    'cityCode': 'CLE',  # IATA code for Cleveland\n",
    "    'radius': 5,\n",
    "    'radiusUnit': 'KM',\n",
    "    'ratings': '3,4,5',  # Optional: filter by star ratings\n",
    "    'hotelSource': 'ALL'  # ALL, BEDBANK, or DIRECTCHAIN\n",
    "}\n",
    "\n",
    "# For authentication\n",
    "auth_url = 'https://test.api.amadeus.com/v1/security/oauth2/token'\n",
    "auth_data = {\n",
    "    'grant_type': 'client_credentials',\n",
    "    'client_id': 'RW5x5Bn2aMZYmgyHCyomxPetDteMmM2a',\n",
    "    'client_secret': 'sKvaa9jS36eO7OCL'\n",
    "}\n",
    "\n",
    "# Get access token\n",
    "auth_response = requests.post(auth_url, data=auth_data)\n",
    "access_token = auth_response.json()['access_token']\n",
    "\n",
    "# Use token in API request\n",
    "headers = {\n",
    "    'Authorization': f'Bearer {access_token}'\n",
    "}\n",
    "\n",
    "response = requests.get(api_url, headers=headers, params=params)\n",
    "data = response.json()\n",
    "print(data)"
   ]
  },
  {
   "cell_type": "code",
   "execution_count": 15,
   "metadata": {},
   "outputs": [
    {
     "name": "stdout",
     "output_type": "stream",
     "text": [
      "                            name  hotel_id  rating\n",
      "0     DBLTREE CLEVELAND DOWNTOWN  DTCLE216       3\n",
      "1  WYNDHAM PLAYHOUSESQUARE HOTEL  WYCLEPHS       5\n",
      "2     RADISSON CLEVELAND GATEWAY  RDCLE627       3\n",
      "3     THE RITZ-CARLTON CLEVELAND  RZCLECLE       5\n",
      "4           COMFORT INN DOWNTOWN  CICLE167       3\n",
      "5    HILTON GI CLEVELAND GATEWAY  GICLE246       3\n",
      "6            UNIVERSITY HOTEL AN  ILCLE101       3\n",
      "7  INTERCONTINENTAL SUITES HOTEL  ICCLEICB       3\n"
     ]
    }
   ],
   "source": [
    "hotels_list = []\n",
    "for hotel in data['data']:\n",
    "    hotel_info = {\n",
    "        'name': hotel.get('name', 'Name not available'),\n",
    "        'hotel_id': hotel.get('hotelId', 'ID not available'),\n",
    "        'rating': hotel.get('rating', 'Rating not available'),\n",
    "    }\n",
    "    hotels_list.append(hotel_info)\n",
    "df = pd.DataFrame(hotels_list)\n",
    "print(df)"
   ]
  }
 ],
 "metadata": {
  "kernelspec": {
   "display_name": "dev",
   "language": "python",
   "name": "python3"
  },
  "language_info": {
   "codemirror_mode": {
    "name": "ipython",
    "version": 3
   },
   "file_extension": ".py",
   "mimetype": "text/x-python",
   "name": "python",
   "nbconvert_exporter": "python",
   "pygments_lexer": "ipython3",
   "version": "3.10.15"
  }
 },
 "nbformat": 4,
 "nbformat_minor": 2
}
