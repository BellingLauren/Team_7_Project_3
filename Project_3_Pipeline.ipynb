{
 "cells": [
  {
   "cell_type": "code",
   "execution_count": 19,
   "metadata": {},
   "outputs": [],
   "source": [
    "import openai\n",
    "import requests\n",
    "from flask import Flask, request, jsonify, render_template\n",
    "from transformers import pipeline\n",
    "from amadeus import Client, ResponseError\n",
    "import pandas as pd"
   ]
  },
  {
   "cell_type": "code",
   "execution_count": 26,
   "metadata": {},
   "outputs": [],
   "source": [
    "hotels_url = 'https://test.api.amadeus.com/v1/reference-data/locations/hotels/by-city'\n",
    "params= {\n",
    "    'cityCode': 'CLE',  # IATA code for Cleveland\n",
    "    'radius': 5,\n",
    "    'radiusUnit': 'KM',\n",
    "    'ratings': '3,4,5',  # Optional: filter by star ratings\n",
    "    'hotelSource': 'ALL'  # ALL, BEDBANK, or DIRECTCHAIN\n",
    "}\n",
    "\n",
    "\n",
    "# For authentication\n",
    "auth_url = 'https://test.api.amadeus.com/v1/security/oauth2/token'\n",
    "auth_data = {\n",
    "    'grant_type': 'client_credentials',\n",
    "    'client_id': 'RW5x5Bn2aMZYmgyHCyomxPetDteMmM2a',\n",
    "    'client_secret': 'sKvaa9jS36eO7OCL'\n",
    "}\n",
    "\n",
    "# Get access token\n",
    "auth_response = requests.post(auth_url, data=auth_data)\n",
    "access_token = auth_response.json()['access_token']\n",
    "\n",
    "# Use token in API request\n",
    "headers = {\n",
    "    'Authorization': f'Bearer {access_token}'\n",
    "}\n",
    "\n",
    "response_hotel = requests.get(hotels_url, headers=headers, params=params)\n",
    "hotel_data = response_hotel.json()"
   ]
  },
  {
   "cell_type": "code",
   "execution_count": 28,
   "metadata": {},
   "outputs": [],
   "source": [
    "flight_url = 'https://test.api.amadeus.com/v2/shopping/flight-offers'\n",
    "params= {\n",
    "    'originLocationCode': 'CLE',  # Cleveland\n",
    "    'destinationLocationCode': 'NYC',  # New York\n",
    "    'departureDate': '2025-05-01',\n",
    "    'adults': 1,\n",
    "    'nonStop': 'false',\n",
    "    'currencyCode': 'USD',\n",
    "    'max': 10  # Limit results\n",
    "}\n",
    "\n",
    "# For authentication\n",
    "auth_url = 'https://test.api.amadeus.com/v1/security/oauth2/token'\n",
    "auth_data = {\n",
    "    'grant_type': 'client_credentials',\n",
    "    'client_id': 'RW5x5Bn2aMZYmgyHCyomxPetDteMmM2a',\n",
    "    'client_secret': 'sKvaa9jS36eO7OCL'\n",
    "}\n",
    "\n",
    "\n",
    "respone_flight = requests.get(flight_url, headers=headers, params=params)\n",
    "flight_data = respone_flight.json()\n"
   ]
  },
  {
   "cell_type": "code",
   "execution_count": 29,
   "metadata": {},
   "outputs": [
    {
     "name": "stdout",
     "output_type": "stream",
     "text": [
      "[{'offer_id': '1', 'price': '116.99', 'currency': 'USD', 'departure_airport': 'CLE', 'arrival_airport': 'LGA', 'departure_date': '2025-05-01T10:15:00', 'airline': 'B6'}, {'offer_id': '2', 'price': '116.99', 'currency': 'USD', 'departure_airport': 'CLE', 'arrival_airport': 'JFK', 'departure_date': '2025-05-01T10:15:00', 'airline': 'B6'}, {'offer_id': '3', 'price': '116.99', 'currency': 'USD', 'departure_airport': 'CLE', 'arrival_airport': 'JFK', 'departure_date': '2025-05-01T10:15:00', 'airline': 'B6'}, {'offer_id': '4', 'price': '124.47', 'currency': 'USD', 'departure_airport': 'CLE', 'arrival_airport': 'EWR', 'departure_date': '2025-05-01T07:00:00', 'airline': 'UA'}, {'offer_id': '5', 'price': '134.17', 'currency': 'USD', 'departure_airport': 'CLE', 'arrival_airport': 'EWR', 'departure_date': '2025-05-01T06:00:00', 'airline': 'UA'}, {'offer_id': '6', 'price': '198.50', 'currency': 'USD', 'departure_airport': 'CLE', 'arrival_airport': 'EWR', 'departure_date': '2025-05-01T08:40:00', 'airline': 'UA'}, {'offer_id': '7', 'price': '216.45', 'currency': 'USD', 'departure_airport': 'CLE', 'arrival_airport': 'EWR', 'departure_date': '2025-05-01T19:20:00', 'airline': 'UA'}, {'offer_id': '8', 'price': '217.56', 'currency': 'USD', 'departure_airport': 'CLE', 'arrival_airport': 'LGA', 'departure_date': '2025-05-01T21:05:00', 'airline': 'B6'}, {'offer_id': '9', 'price': '217.56', 'currency': 'USD', 'departure_airport': 'CLE', 'arrival_airport': 'LGA', 'departure_date': '2025-05-01T10:15:00', 'airline': 'B6'}, {'offer_id': '10', 'price': '217.56', 'currency': 'USD', 'departure_airport': 'CLE', 'arrival_airport': 'LGA', 'departure_date': '2025-05-01T21:05:00', 'airline': 'B6'}]\n"
     ]
    }
   ],
   "source": [
    "flights_list = []\n",
    "for offer in flight_data['data']:\n",
    "        # Extract the most important data from each flight offer\n",
    "        flight_info = {\n",
    "            'offer_id': offer.get('id', 'ID not available'),\n",
    "            'price': offer.get('price', {}).get('total', 'Price not available'),\n",
    "            'currency': offer.get('price', {}).get('currency', 'Currency not available'),\n",
    "            # Get the first itinerary segment information (typically the outbound flight)\n",
    "            'departure_airport': offer.get('itineraries', [{}])[0].get('segments', [{}])[0].get('departure', {}).get('iataCode', 'Airport not available'),\n",
    "            'arrival_airport': offer.get('itineraries', [{}])[0].get('segments', [{}])[-1].get('arrival', {}).get('iataCode', 'Airport not available'),\n",
    "            'departure_date': offer.get('itineraries', [{}])[0].get('segments', [{}])[0].get('departure', {}).get('at', 'Date not available'),\n",
    "            'airline': offer.get('itineraries', [{}])[0].get('segments', [{}])[0].get('carrierCode', 'Airline not available')\n",
    "        }\n",
    "        flights_list.append(flight_info)\n",
    "flight_df = pd.DataFrame(flights_list)\n",
    "print(flights_list)"
   ]
  },
  {
   "cell_type": "code",
   "execution_count": 27,
   "metadata": {},
   "outputs": [
    {
     "name": "stdout",
     "output_type": "stream",
     "text": [
      "                            name  hotel_id  rating\n",
      "0     DBLTREE CLEVELAND DOWNTOWN  DTCLE216       3\n",
      "1  WYNDHAM PLAYHOUSESQUARE HOTEL  WYCLEPHS       5\n",
      "2     RADISSON CLEVELAND GATEWAY  RDCLE627       3\n",
      "3     THE RITZ-CARLTON CLEVELAND  RZCLECLE       5\n",
      "4           COMFORT INN DOWNTOWN  CICLE167       3\n",
      "5    HILTON GI CLEVELAND GATEWAY  GICLE246       3\n",
      "6            UNIVERSITY HOTEL AN  ILCLE101       3\n",
      "7  INTERCONTINENTAL SUITES HOTEL  ICCLEICB       3\n"
     ]
    }
   ],
   "source": [
    "hotels_list = []\n",
    "for hotel in hotel_data['data']:\n",
    "    hotel_info = {\n",
    "        'name': hotel.get('name', 'Name not available'),\n",
    "        'hotel_id': hotel.get('hotelId', 'ID not available'),\n",
    "        'rating': hotel.get('rating', 'Rating not available'),\n",
    "    }\n",
    "    hotels_list.append(hotel_info)\n",
    "df = pd.DataFrame(hotels_list)\n",
    "print(df)"
   ]
  }
 ],
 "metadata": {
  "kernelspec": {
   "display_name": "dev",
   "language": "python",
   "name": "python3"
  },
  "language_info": {
   "codemirror_mode": {
    "name": "ipython",
    "version": 3
   },
   "file_extension": ".py",
   "mimetype": "text/x-python",
   "name": "python",
   "nbconvert_exporter": "python",
   "pygments_lexer": "ipython3",
   "version": "3.10.15"
  }
 },
 "nbformat": 4,
 "nbformat_minor": 2
}
