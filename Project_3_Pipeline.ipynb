{
 "cells": [
  {
   "cell_type": "code",
   "execution_count": 5,
   "metadata": {},
   "outputs": [
    {
     "name": "stdout",
     "output_type": "stream",
     "text": [
      "Requirement already satisfied: openai in c:\\users\\bryan\\anaconda3\\envs\\dev\\lib\\site-packages (1.70.0)\n",
      "Requirement already satisfied: anyio<5,>=3.5.0 in c:\\users\\bryan\\anaconda3\\envs\\dev\\lib\\site-packages (from openai) (4.2.0)\n",
      "Requirement already satisfied: distro<2,>=1.7.0 in c:\\users\\bryan\\anaconda3\\envs\\dev\\lib\\site-packages (from openai) (1.9.0)\n",
      "Requirement already satisfied: httpx<1,>=0.23.0 in c:\\users\\bryan\\anaconda3\\envs\\dev\\lib\\site-packages (from openai) (0.27.0)\n",
      "Requirement already satisfied: jiter<1,>=0.4.0 in c:\\users\\bryan\\anaconda3\\envs\\dev\\lib\\site-packages (from openai) (0.9.0)\n",
      "Requirement already satisfied: pydantic<3,>=1.9.0 in c:\\users\\bryan\\anaconda3\\envs\\dev\\lib\\site-packages (from openai) (2.10.6)\n",
      "Requirement already satisfied: sniffio in c:\\users\\bryan\\anaconda3\\envs\\dev\\lib\\site-packages (from openai) (1.3.0)\n",
      "Requirement already satisfied: tqdm>4 in c:\\users\\bryan\\anaconda3\\envs\\dev\\lib\\site-packages (from openai) (4.66.5)\n",
      "Requirement already satisfied: typing-extensions<5,>=4.11 in c:\\users\\bryan\\anaconda3\\envs\\dev\\lib\\site-packages (from openai) (4.12.2)\n",
      "Requirement already satisfied: idna>=2.8 in c:\\users\\bryan\\anaconda3\\envs\\dev\\lib\\site-packages (from anyio<5,>=3.5.0->openai) (3.7)\n",
      "Requirement already satisfied: exceptiongroup>=1.0.2 in c:\\users\\bryan\\anaconda3\\envs\\dev\\lib\\site-packages (from anyio<5,>=3.5.0->openai) (1.2.0)\n",
      "Requirement already satisfied: certifi in c:\\users\\bryan\\anaconda3\\envs\\dev\\lib\\site-packages (from httpx<1,>=0.23.0->openai) (2024.8.30)\n",
      "Requirement already satisfied: httpcore==1.* in c:\\users\\bryan\\anaconda3\\envs\\dev\\lib\\site-packages (from httpx<1,>=0.23.0->openai) (1.0.2)\n",
      "Requirement already satisfied: h11<0.15,>=0.13 in c:\\users\\bryan\\anaconda3\\envs\\dev\\lib\\site-packages (from httpcore==1.*->httpx<1,>=0.23.0->openai) (0.14.0)\n",
      "Requirement already satisfied: annotated-types>=0.6.0 in c:\\users\\bryan\\anaconda3\\envs\\dev\\lib\\site-packages (from pydantic<3,>=1.9.0->openai) (0.7.0)\n",
      "Requirement already satisfied: pydantic-core==2.27.2 in c:\\users\\bryan\\anaconda3\\envs\\dev\\lib\\site-packages (from pydantic<3,>=1.9.0->openai) (2.27.2)\n",
      "Requirement already satisfied: colorama in c:\\users\\bryan\\anaconda3\\envs\\dev\\lib\\site-packages (from tqdm>4->openai) (0.4.6)\n",
      "Collecting amadeus\n",
      "  Using cached amadeus-12.0.0.tar.gz (36 kB)\n",
      "  Preparing metadata (setup.py): started\n",
      "  Preparing metadata (setup.py): finished with status 'done'\n",
      "Building wheels for collected packages: amadeus\n",
      "  Building wheel for amadeus (setup.py): started\n",
      "  Building wheel for amadeus (setup.py): finished with status 'done'\n",
      "  Created wheel for amadeus: filename=amadeus-12.0.0-py2.py3-none-any.whl size=67514 sha256=97a79896c06c8080f5bc642e77bfb445d30e464e645554f7ba3211e845e0b51a\n",
      "  Stored in directory: c:\\users\\bryan\\appdata\\local\\pip\\cache\\wheels\\ac\\02\\42\\b906ca677ec86c78d4f45c75e9ed09a01f108b9ca0f7a24ad1\n",
      "Successfully built amadeus\n",
      "Installing collected packages: amadeus\n",
      "Successfully installed amadeus-12.0.0\n"
     ]
    }
   ],
   "source": [
    "!pip install openai\n",
    "!pip install amadeus"
   ]
  },
  {
   "cell_type": "code",
   "execution_count": 6,
   "metadata": {},
   "outputs": [],
   "source": [
    "import openai\n",
    "import requests\n",
    "from flask import Flask, request, jsonify, render_template\n",
    "from transformers import pipeline\n",
    "from amadeus import Client, ResponseError"
   ]
  },
  {
   "cell_type": "code",
   "execution_count": 12,
   "metadata": {},
   "outputs": [
    {
     "name": "stdout",
     "output_type": "stream",
     "text": [
      "{'data': [{'chainCode': 'DT', 'iataCode': 'CLE', 'dupeId': 700008366, 'name': 'DBLTREE CLEVELAND DOWNTOWN', 'hotelId': 'DTCLE216', 'geoCode': {'latitude': 41.50674, 'longitude': -81.68916}, 'address': {'countryCode': 'US'}, 'distance': {'value': 0.25, 'unit': 'KM'}, 'rating': 3, 'lastUpdate': '2023-06-15T09:42:40'}, {'chainCode': 'WY', 'iataCode': 'CLE', 'dupeId': 700050873, 'name': 'WYNDHAM PLAYHOUSESQUARE HOTEL', 'hotelId': 'WYCLEPHS', 'geoCode': {'latitude': 41.5006, 'longitude': -81.68353}, 'address': {'countryCode': 'US'}, 'distance': {'value': 0.77, 'unit': 'KM'}, 'rating': 5, 'lastUpdate': '2023-06-15T09:44:48'}, {'chainCode': 'RD', 'iataCode': 'CLE', 'dupeId': 700037315, 'name': 'RADISSON CLEVELAND GATEWAY', 'hotelId': 'RDCLE627', 'geoCode': {'latitude': 41.49842, 'longitude': -81.68713}, 'address': {'countryCode': 'US'}, 'distance': {'value': 0.77, 'unit': 'KM'}, 'rating': 3, 'lastUpdate': '2023-06-15T09:43:45'}, {'chainCode': 'RZ', 'iataCode': 'CLE', 'dupeId': 700112673, 'name': 'THE RITZ-CARLTON CLEVELAND', 'hotelId': 'RZCLECLE', 'geoCode': {'latitude': 41.49756, 'longitude': -81.6948}, 'address': {'countryCode': 'US'}, 'distance': {'value': 0.86, 'unit': 'KM'}, 'rating': 5, 'lastUpdate': '2024-01-25T07:26:14'}, {'chainCode': 'CI', 'iataCode': 'CLE', 'dupeId': 700022811, 'name': 'COMFORT INN DOWNTOWN', 'hotelId': 'CICLE167', 'geoCode': {'latitude': 41.50109, 'longitude': -81.67858}, 'address': {'countryCode': 'US'}, 'distance': {'value': 1.1, 'unit': 'KM'}, 'rating': 3, 'lastUpdate': '2023-06-15T09:46:04'}, {'chainCode': 'GI', 'iataCode': 'CLE', 'dupeId': 700035543, 'name': 'HILTON GI CLEVELAND GATEWAY', 'hotelId': 'GICLE246', 'geoCode': {'latitude': 41.49633, 'longitude': -81.68171}, 'address': {'countryCode': 'US'}, 'distance': {'value': 1.21, 'unit': 'KM'}, 'rating': 3, 'lastUpdate': '2023-06-15T09:45:49'}, {'chainCode': 'IL', 'iataCode': 'CLE', 'dupeId': 700103716, 'name': 'UNIVERSITY HOTEL AN', 'hotelId': 'ILCLE101', 'geoCode': {'latitude': 41.50309, 'longitude': -81.66246}, 'address': {'countryCode': 'US'}, 'distance': {'value': 2.37, 'unit': 'KM'}, 'rating': 3, 'lastUpdate': '2023-06-15T09:42:41'}, {'chainCode': 'IC', 'iataCode': 'CLE', 'dupeId': 700068735, 'name': 'INTERCONTINENTAL SUITES HOTEL', 'hotelId': 'ICCLEICB', 'geoCode': {'latitude': 41.50343, 'longitude': -81.62549}, 'address': {'countryCode': 'US'}, 'distance': {'value': 5.45, 'unit': 'KM'}, 'rating': 3, 'lastUpdate': '2023-06-15T09:48:12'}], 'meta': {'count': 8, 'links': {'self': 'https://test.api.amadeus.com/v1/reference-data/locations/hotels/by-city?cityCode=CLE&hotelSource=ALL&radius=5&radiusUnit=KM&ratings=3,4,5'}}}\n"
     ]
    }
   ],
   "source": [
    "api_url = 'https://test.api.amadeus.com/v1/reference-data/locations/hotels/by-city'\n",
    "params = {\n",
    "    'cityCode': 'CLE',  # IATA code for Cleveland\n",
    "    'radius': 5,\n",
    "    'radiusUnit': 'KM',\n",
    "    'ratings': '3,4,5',  # Optional: filter by star ratings\n",
    "    'hotelSource': 'ALL'  # ALL, BEDBANK, or DIRECTCHAIN\n",
    "}\n",
    "\n",
    "# For authentication\n",
    "auth_url = 'https://test.api.amadeus.com/v1/security/oauth2/token'\n",
    "auth_data = {\n",
    "    'grant_type': 'client_credentials',\n",
    "    'client_id': 'RW5x5Bn2aMZYmgyHCyomxPetDteMmM2a',\n",
    "    'client_secret': 'sKvaa9jS36eO7OCL'\n",
    "}\n",
    "\n",
    "# Get access token\n",
    "auth_response = requests.post(auth_url, data=auth_data)\n",
    "access_token = auth_response.json()['access_token']\n",
    "\n",
    "# Use token in API request\n",
    "headers = {\n",
    "    'Authorization': f'Bearer {access_token}'\n",
    "}\n",
    "\n",
    "response = requests.get(api_url, headers=headers, params=params)\n",
    "data = response.json()\n",
    "print(data)"
   ]
  },
  {
   "cell_type": "code",
   "execution_count": 7,
   "metadata": {},
   "outputs": [],
   "source": [
    "amadeus = Client(client_id='Amadeus_API', client_secret='Secret')"
   ]
  }
 ],
 "metadata": {
  "kernelspec": {
   "display_name": "dev",
   "language": "python",
   "name": "python3"
  },
  "language_info": {
   "codemirror_mode": {
    "name": "ipython",
    "version": 3
   },
   "file_extension": ".py",
   "mimetype": "text/x-python",
   "name": "python",
   "nbconvert_exporter": "python",
   "pygments_lexer": "ipython3",
   "version": "3.10.15"
  }
 },
 "nbformat": 4,
 "nbformat_minor": 2
}
