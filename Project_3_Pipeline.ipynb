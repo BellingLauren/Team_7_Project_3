{
 "cells": [
  {
   "cell_type": "code",
   "execution_count": 24,
   "metadata": {},
   "outputs": [],
   "source": [
    "import openai\n",
    "import requests\n",
    "from flask import Flask, request, jsonify, render_template\n",
    "from transformers import pipeline\n",
    "from amadeus import Client, ResponseError\n",
    "import pandas as pd\n",
    "import json"
   ]
  },
  {
   "cell_type": "code",
   "execution_count": 37,
   "metadata": {},
   "outputs": [],
   "source": [
    "hotels_url = 'https://test.api.amadeus.com/v1/reference-data/locations/hotels/by-city'\n",
    "params= {\n",
    "    'cityCode': 'CLE',  # IATA code for Cleveland\n",
    "    'radius': 5,\n",
    "    'radiusUnit': 'KM',\n",
    "    'ratings': '3,4,5',  # Optional: filter by star ratings\n",
    "    'hotelSource': 'ALL'  # ALL, BEDBANK, or DIRECTCHAIN\n",
    "}\n",
    "\n",
    "\n",
    "# For authentication\n",
    "auth_url = 'https://test.api.amadeus.com/v1/security/oauth2/token'\n",
    "auth_data = {\n",
    "    'grant_type': 'client_credentials',\n",
    "    'client_id': 'RW5x5Bn2aMZYmgyHCyomxPetDteMmM2a',\n",
    "    'client_secret': 'sKvaa9jS36eO7OCL'\n",
    "}\n",
    "\n",
    "# Get access token\n",
    "auth_response = requests.post(auth_url, data=auth_data)\n",
    "access_token = auth_response.json()['access_token']\n",
    "\n",
    "# Use token in API request\n",
    "headers = {\n",
    "    'Authorization': f'Bearer {access_token}'\n",
    "}\n",
    "\n",
    "response_hotel = requests.get(hotels_url, headers=headers, params=params)\n",
    "hotel_data = response_hotel.json()"
   ]
  },
  {
   "cell_type": "code",
   "execution_count": 33,
   "metadata": {},
   "outputs": [
    {
     "name": "stdout",
     "output_type": "stream",
     "text": [
      "Keys in flight_data: dict_keys(['errors'])\n",
      "Unexpected structure. Top-level keys: dict_keys(['errors'])\n",
      "Sample data: {\n",
      "  \"errors\": [\n",
      "    {\n",
      "      \"status\": 400,\n",
      "      \"code\": 572,\n",
      "      \"title\": \"INVALID OPTION\",\n",
      "      \"detail\": \"Invalid query parameter\",\n",
      "      \"source\": {\n",
      "        \"parameter\": \"cityCode\"\n",
      "      }\n",
      "    },\n",
      "    {\n",
      "      \"status\": 400,\n",
      "      \"code\": 572,\n",
      "      \"title\": \"INVALID OPTION\",\n",
      "      \"detail\": \"Invalid query parameter\",\n",
      "      \"source\": {\n",
      "        \"parameter\": \"radius\"\n",
      "      }\n",
      "    },\n",
      "    {\n",
      "      \"status\": 400,\n",
      "      \"code\": 572,\n",
      "      \"title\": \"INVALID OPTION\",\n",
      "      \"detail\": \"Invalid query parameter\",\n",
      "      \"source\": {\n",
      "        \"parameter\": \"radiusUnit\"\n",
      "      }\n",
      "    },\n",
      "    {\n",
      "      \"status\": 400,\n",
      "      \"code\": 572,\n",
      "      \"title\": \"INVALID OPTION\",\n",
      "      \"detail\": \"Invalid query parameter\",\n",
      "      \"source\": {\n",
      "        \"parameter\": \"ratings\"\n",
      "      }\n",
      "    },\n",
      "    {\n",
      "      \"status\": 400,\n",
      "      \"code\": 572,\n",
      "      \"title\": \"INVALID OPTION\",\n",
      "      \"detail\": \"Invalid query parameter\",\n",
      "      \"source\": {\n",
      "        \"parameter\": \"hotelSource\"\n",
      "      }\n",
      "    }\n",
      "  ]\n",
      "}\n",
      "No flight data could be extracted\n"
     ]
    }
   ],
   "source": [
    "print(\"Keys in flight_data:\", flight_data.keys())\n",
    "\n",
    "# Try to create a simplified dataframe based on the actual structure\n",
    "flights_list = []\n",
    "\n",
    "# Use a safer approach that doesn't assume 'data' exists\n",
    "if isinstance(flight_data, dict):\n",
    "    # If flight_data is the top-level dictionary\n",
    "    if 'data' in flight_data:\n",
    "        # Process as before\n",
    "        for offer in flight_data['data']:\n",
    "            flight_info = {\n",
    "                'offer_id': offer.get('id', 'ID not available'),\n",
    "                'price': offer.get('price', {}).get('total', 'Price not available'),\n",
    "                # Other fields...\n",
    "            }\n",
    "            flights_list.append(flight_info)\n",
    "    # Check for other common response structures\n",
    "    elif 'flights' in flight_data:\n",
    "        for flight in flight_data['flights']:\n",
    "            # Extract information\n",
    "            flight_info = {\n",
    "                'flight_id': flight.get('id', 'ID not available'),\n",
    "                # Add other fields based on structure\n",
    "            }\n",
    "            flights_list.append(flight_info)\n",
    "    else:\n",
    "        # If none of the expected keys are present, try to extract from the top level\n",
    "        print(\"Unexpected structure. Top-level keys:\", flight_data.keys())\n",
    "        # Just take the first few items from the dictionary to see what's available\n",
    "        sample_data = dict(list(flight_data.items())[:5])\n",
    "        print(\"Sample data:\", json.dumps(sample_data, indent=2))\n",
    "elif isinstance(flight_data, list):\n",
    "    # If flight_data is directly a list\n",
    "    for item in flight_data:\n",
    "        flight_info = {\n",
    "            # Extract fields based on what's available\n",
    "            # Use item.get() for each field you want\n",
    "        }\n",
    "        flights_list.append(flight_info)\n",
    "\n",
    "# Only create DataFrame if we have data\n",
    "if flights_list:\n",
    "    flight_df = pd.DataFrame(flights_list)\n",
    "    print(flight_df)\n",
    "else:\n",
    "    print(\"No flight data could be extracted\")"
   ]
  },
  {
   "cell_type": "code",
   "execution_count": 38,
   "metadata": {},
   "outputs": [
    {
     "ename": "KeyError",
     "evalue": "'access_token'",
     "output_type": "error",
     "traceback": [
      "\u001b[1;31m---------------------------------------------------------------------------\u001b[0m",
      "\u001b[1;31mKeyError\u001b[0m                                  Traceback (most recent call last)",
      "Cell \u001b[1;32mIn[38], line 23\u001b[0m\n\u001b[0;32m     21\u001b[0m \u001b[38;5;66;03m# Get access token\u001b[39;00m\n\u001b[0;32m     22\u001b[0m auth_response \u001b[38;5;241m=\u001b[39m requests\u001b[38;5;241m.\u001b[39mpost(auth_url, data\u001b[38;5;241m=\u001b[39mauth_data)\n\u001b[1;32m---> 23\u001b[0m access_token \u001b[38;5;241m=\u001b[39m \u001b[43mauth_response\u001b[49m\u001b[38;5;241;43m.\u001b[39;49m\u001b[43mjson\u001b[49m\u001b[43m(\u001b[49m\u001b[43m)\u001b[49m\u001b[43m[\u001b[49m\u001b[38;5;124;43m'\u001b[39;49m\u001b[38;5;124;43maccess_token\u001b[39;49m\u001b[38;5;124;43m'\u001b[39;49m\u001b[43m]\u001b[49m\n\u001b[0;32m     25\u001b[0m \u001b[38;5;66;03m# Use token in API request\u001b[39;00m\n\u001b[0;32m     26\u001b[0m headers \u001b[38;5;241m=\u001b[39m {\n\u001b[0;32m     27\u001b[0m     \u001b[38;5;124m'\u001b[39m\u001b[38;5;124mAuthorization\u001b[39m\u001b[38;5;124m'\u001b[39m: \u001b[38;5;124mf\u001b[39m\u001b[38;5;124m'\u001b[39m\u001b[38;5;124mBearer \u001b[39m\u001b[38;5;132;01m{\u001b[39;00maccess_token\u001b[38;5;132;01m}\u001b[39;00m\u001b[38;5;124m'\u001b[39m\n\u001b[0;32m     28\u001b[0m }\n",
      "\u001b[1;31mKeyError\u001b[0m: 'access_token'"
     ]
    }
   ],
   "source": [
    "# Flight search API endpoint\n",
    "flight_url = 'https://test.api.amadeus.com/v2/shopping/flight-offers'\n",
    "\n",
    "# Parameters for flight search\n",
    "params = {\n",
    "    'originLocationCode': 'CLE',        # Cleveland airport code\n",
    "    'destinationLocationCode': 'NYC',   # New York airport code (or use JFK, LGA, etc.)\n",
    "    'departureDate': '2025-05-01',      # Format: YYYY-MM-DD\n",
    "    'adults': 1,                        # Number of adult passengers\n",
    "    'max': 10                           # Maximum number of results\n",
    "}\n",
    "\n",
    "# Authentication (same as before)\n",
    "auth_url = 'https://test.api.amadeus.com/v1/security/oauth2/token'\n",
    "auth_data = {\n",
    "    'grant_type': 'client_credentials',\n",
    "    'client_id': 'YOUR_API_KEY',\n",
    "    'client_secret': 'YOUR_API_SECRET'\n",
    "}\n",
    "\n",
    "# Get access token\n",
    "auth_response = requests.post(auth_url, data=auth_data)\n",
    "access_token = auth_response.json()['access_token']\n",
    "\n",
    "# Use token in API request\n",
    "headers = {\n",
    "    'Authorization': f'Bearer {access_token}'\n",
    "}\n",
    "respone_flight = requests.get(flight_url, headers=headers, params=params)\n",
    "flight_data = respone_flight.json()"
   ]
  },
  {
   "cell_type": "code",
   "execution_count": 35,
   "metadata": {},
   "outputs": [
    {
     "name": "stdout",
     "output_type": "stream",
     "text": [
      "[]\n"
     ]
    }
   ],
   "source": [
    "if 'data' in flight_data:\n",
    "    flights_list = []\n",
    "    for offer in flight_data['data']:\n",
    "        # Extract the most important data from each flight offer\n",
    "        flight_info = {\n",
    "            'offer_id': offer.get('id', 'ID not available'),\n",
    "            'price': offer.get('price', {}).get('total', 'Price not available'),\n",
    "            'currency': offer.get('price', {}).get('currency', 'Currency not available'),\n",
    "            # Get the first itinerary segment information (typically the outbound flight)\n",
    "            'departure_airport': offer.get('itineraries', [{}])[0].get('segments', [{}])[0].get('departure', {}).get('iataCode', 'Airport not available'),\n",
    "            'arrival_airport': offer.get('itineraries', [{}])[0].get('segments', [{}])[-1].get('arrival', {}).get('iataCode', 'Airport not available'),\n",
    "            'departure_date': offer.get('itineraries', [{}])[0].get('segments', [{}])[0].get('departure', {}).get('at', 'Date not available'),\n",
    "            'airline': offer.get('itineraries', [{}])[0].get('segments', [{}])[0].get('carrierCode', 'Airline not available')\n",
    "        }\n",
    "        flights_list.append(flight_info)\n",
    "flight_df = pd.DataFrame(flights_list)\n",
    "print(flights_list)"
   ]
  },
  {
   "cell_type": "code",
   "execution_count": 39,
   "metadata": {},
   "outputs": [
    {
     "name": "stdout",
     "output_type": "stream",
     "text": [
      "                            name  hotel_id  rating\n",
      "0     DBLTREE CLEVELAND DOWNTOWN  DTCLE216       3\n",
      "1  WYNDHAM PLAYHOUSESQUARE HOTEL  WYCLEPHS       5\n",
      "2     RADISSON CLEVELAND GATEWAY  RDCLE627       3\n",
      "3     THE RITZ-CARLTON CLEVELAND  RZCLECLE       5\n",
      "4           COMFORT INN DOWNTOWN  CICLE167       3\n",
      "5    HILTON GI CLEVELAND GATEWAY  GICLE246       3\n",
      "6            UNIVERSITY HOTEL AN  ILCLE101       3\n",
      "7  INTERCONTINENTAL SUITES HOTEL  ICCLEICB       3\n"
     ]
    }
   ],
   "source": [
    "hotels_list = []\n",
    "for hotel in hotel_data['data']:\n",
    "    hotel_info = {\n",
    "        'name': hotel.get('name', 'Name not available'),\n",
    "        'hotel_id': hotel.get('hotelId', 'ID not available'),\n",
    "        'rating': hotel.get('rating', 'Rating not available'),\n",
    "    }\n",
    "    hotels_list.append(hotel_info)\n",
    "df = pd.DataFrame(hotels_list)\n",
    "print(df)"
   ]
  }
 ],
 "metadata": {
  "kernelspec": {
   "display_name": "dev",
   "language": "python",
   "name": "python3"
  },
  "language_info": {
   "codemirror_mode": {
    "name": "ipython",
    "version": 3
   },
   "file_extension": ".py",
   "mimetype": "text/x-python",
   "name": "python",
   "nbconvert_exporter": "python",
   "pygments_lexer": "ipython3",
   "version": "3.10.15"
  }
 },
 "nbformat": 4,
 "nbformat_minor": 2
}
