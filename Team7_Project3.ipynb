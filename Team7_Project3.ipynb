{
 "cells": [
  {
   "cell_type": "code",
   "execution_count": null,
   "metadata": {},
   "outputs": [],
   "source": [
    "import openai\n",
    "import requests\n",
    "from flask import Flask, request, jsonify\n",
    "from transformers import pipeline"
   ]
  },
  {
   "cell_type": "code",
   "execution_count": null,
   "metadata": {},
   "outputs": [],
   "source": [
    "# Initialize Flask app\n",
    "app = Flask(__name__)"
   ]
  },
  {
   "cell_type": "code",
   "execution_count": null,
   "metadata": {},
   "outputs": [],
   "source": [
    "# Set up OpenAI API (for GPT-3/4)\n",
    "openai.api_key = 'OpenAI_API_KEY'"
   ]
  },
  {
   "cell_type": "code",
   "execution_count": null,
   "metadata": {},
   "outputs": [],
   "source": [
    "# Initialize Hugging Face GPT model for fallback\n",
    "#chatbot = pipeline(\"text-generation\", model=\"microsoft/DialoGPT-medium\")"
   ]
  },
  {
   "cell_type": "code",
   "execution_count": null,
   "metadata": {},
   "outputs": [],
   "source": [
    "# Weather API key (OpenWeatherMap)\n",
    "weather_api_key = 'WEATHER_API_KEY'"
   ]
  },
  {
   "cell_type": "code",
   "execution_count": null,
   "metadata": {},
   "outputs": [],
   "source": [
    "# Flight API Key (Amadeus)\n",
    "amadeus_client_id = 'Amadeus_API'\n",
    "amadeus_client_secret = 'Secret'"
   ]
  },
  {
   "cell_type": "code",
   "execution_count": null,
   "metadata": {},
   "outputs": [],
   "source": [
    "# Flight API Key\n",
    "flight_api_key =\"Amadeus_API\""
   ]
  },
  {
   "cell_type": "code",
   "execution_count": null,
   "metadata": {},
   "outputs": [],
   "source": [
    "# Route for chatbot interaction\n",
    "@app.route(\"/chat\", methods=[\"POST\"])\n",
    "def chat():\n",
    "    user_message = request.json.get('message')\n",
    "# Check if the message contains a travel-specific request like weather or flight info\n",
    "    if \"weather\" in user_message.lower():\n",
    "        return get_weather_info(user_message)\n",
    "    elif \"flight\" in user_message.lower():\n",
    "        return get_flight_info(user_message)\n",
    "    else:\n",
    "        # Default to GPT-3/4 for general conversation\n",
    "        return get_gpt_response(user_message)"
   ]
  },
  {
   "cell_type": "code",
   "execution_count": null,
   "metadata": {},
   "outputs": [],
   "source": [
    "# Get response from OpenAI GPT-3/4 (or GPT-4 via OpenAI API)\n",
    "def get_gpt_response(message):\n",
    "    response = openai.Completion.create(\n",
    "        engine=\"text-davinci-003\",  \n",
    "        prompt=message,\n",
    "        max_tokens=100,\n",
    "        temperature=0.7,\n",
    "    )\n",
    "    return jsonify({\"response\": response.choices[0].text.strip()})"
   ]
  },
  {
   "cell_type": "code",
   "execution_count": null,
   "metadata": {},
   "outputs": [],
   "source": [
    "# Fetch weather data from OpenWeatherMap API\n",
    "def get_weather_info(message):\n",
    "    location = extract_location(message)\n",
    "    if location:\n",
    "        url = f\"http://api.openweathermap.org/data/2.5/weather?q={location}&appid={weather_api_key}&units=metric\"\n",
    "        response = requests.get(url).json()\n",
    "        if response.get(\"cod\") == 200:\n",
    "            weather_data = response[\"main\"]\n",
    "            weather_description = response[\"weather\"][0][\"description\"]\n",
    "            return jsonify({\"response\": f\"The weather in {location} is {weather_description} with a temperature of {weather_data['temp']}°C.\"})\n",
    "        else:\n",
    "            return jsonify({\"response\": \"Sorry, I couldn't fetch the weather data for that location.\"})\n",
    "    else:\n",
    "        return jsonify({\"response\": \"Please provide a location for the weather.\"})"
   ]
  },
  {
   "cell_type": "code",
   "execution_count": null,
   "metadata": {},
   "outputs": [],
   "source": [
    "# Extract location from the user's message (simplified version)\n",
    "def extract_location(message):\n",
    "    # For simplicity, we assume the location is the last word in the sentence (could be extended)\n",
    "    words = message.split()\n",
    "    return words[-1] if words else None"
   ]
  },
  {
   "cell_type": "code",
   "execution_count": null,
   "metadata": {},
   "outputs": [],
   "source": [
    "# Fetch flight information using Amadeus API\n",
    "def get_flight_info(message):\n",
    "    # For simplicity, let's extract departure and destination (real code would be more complex)\n",
    "    if \"from\" in message and \"to\" in message:\n",
    "        parts = message.split(\"from\")\n",
    "        from_location = parts[1].split(\"to\")[0].strip()\n",
    "        to_location = parts[1].split(\"to\")[1].strip()\n",
    "\n",
    "        # Fetch flight data from Amadeus API\n",
    "        flight_data = search_flights(from_location, to_location)\n",
    "        \n",
    "        if flight_data:\n",
    "            return jsonify({\"response\": f\"Found flights from {from_location} to {to_location}. Details: {flight_data}\"})\n",
    "        else:\n",
    "            return jsonify({\"response\": f\"Sorry, I couldn't find any flights from {from_location} to {to_location}.\"})\n",
    "    else:\n",
    "        return jsonify({\"response\": \"Please provide both the departure and destination locations.\"})"
   ]
  },
  {
   "cell_type": "code",
   "execution_count": null,
   "metadata": {},
   "outputs": [],
   "source": [
    "# Fetch flight information from Amadeus API\n",
    "def search_flights(from_location, to_location):\n",
    "    token = get_amadeus_access_token()\n",
    "    if token:\n",
    "        url = \"https://test.api.amadeus.com/v2/shopping/flight-offers\"\n",
    "        headers = {\n",
    "            \"Authorization\": f\"Bearer {token}\"\n",
    "        }\n",
    "        params = {\n",
    "            \"originLocationCode\": from_location.upper(), \n",
    "            \"destinationLocationCode\": to_location.upper(),  \n",
    "            \"departureDate\": \"2025-05-10\", \n",
    "            \"adults\": 1\n",
    "        }\n",
    "        response = requests.get(url, headers=headers, params=params)\n",
    "        \n",
    "        if response.status_code == 200:\n",
    "            flight_data = response.json()\n",
    "            # Simplify the data for response (you could improve this based on your needs)\n",
    "            return flight_data.get(\"data\", [])\n",
    "        else:\n",
    "            print(f\"Error: {response.status_code}, {response.text}\")\n",
    "            return None\n",
    "    else:\n",
    "        print(\"Unable to get access token.\")\n",
    "        return None"
   ]
  },
  {
   "cell_type": "code",
   "execution_count": null,
   "metadata": {},
   "outputs": [],
   "source": [
    "def get_amadeus_access_token():\n",
    "    url = \"https://test.api.amadeus.com/v1/security/oauth2/token\"\n",
    "    headers = {\n",
    "        \"Content-Type\": \"application/x-www-form-urlencoded\"\n",
    "    }\n",
    "    data = {\n",
    "        \"grant_type\": \"client_credentials\",\n",
    "        \"client_id\": amadeus_client_id,\n",
    "        \"client_secret\": amadeus_client_secret\n",
    "    }\n",
    "    response = requests.post(url, headers=headers, data=data)\n",
    "    \n",
    "    if response.status_code == 200:\n",
    "        return response.json()['access_token']\n",
    "    else:\n",
    "        print(f\"Error: {response.status_code}, {response.text}\")\n",
    "        return None\n",
    "\n",
    "if __name__ == '__main__':\n",
    "    app.run(debug=True)"
   ]
  }
 ],
 "metadata": {
  "kernelspec": {
   "display_name": "dev",
   "language": "python",
   "name": "python3"
  },
  "language_info": {
   "name": "python",
   "version": "3.10.15"
  }
 },
 "nbformat": 4,
 "nbformat_minor": 2
}
